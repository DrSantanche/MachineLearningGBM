{
  "nbformat": 4,
  "nbformat_minor": 0,
  "metadata": {
    "colab": {
      "name": "ML_classification.ipynb",
      "provenance": [],
      "collapsed_sections": [],
      "toc_visible": true,
      "authorship_tag": "ABX9TyP8iEVNUIOuOuva6jOOkj9m",
      "include_colab_link": true
    },
    "kernelspec": {
      "name": "python3",
      "display_name": "Python 3"
    }
  },
  "cells": [
    {
      "cell_type": "markdown",
      "metadata": {
        "id": "view-in-github",
        "colab_type": "text"
      },
      "source": [
        "<a href=\"https://colab.research.google.com/github/DrSantanche/MachineLearningGBM/blob/master/ML_classification.ipynb\" target=\"_parent\"><img src=\"https://colab.research.google.com/assets/colab-badge.svg\" alt=\"Open In Colab\"/></a>"
      ]
    },
    {
      "cell_type": "markdown",
      "metadata": {
        "id": "ULyVTpwCPeQc",
        "colab_type": "text"
      },
      "source": [
        "## **Forecasting Brownian Motion using SVM and LSTM Neural Network**"
      ]
    },
    {
      "cell_type": "markdown",
      "metadata": {
        "id": "4uoKAWYPP9lt",
        "colab_type": "text"
      },
      "source": [
        "In this script, I will define two machine learning models to forecast a randomly generated geometric brownian motion.\n",
        "The forecast will be directional only, so the problem will be defined as classification.\n",
        "\n",
        "The performance will be evaluated through accuracy, since, of course, the cost of false negatives and false positives is equal."
      ]
    },
    {
      "cell_type": "markdown",
      "metadata": {
        "id": "l61eOobARIX_",
        "colab_type": "text"
      },
      "source": [
        "# First model: SVM"
      ]
    },
    {
      "cell_type": "markdown",
      "metadata": {
        "id": "OaalydiYXf48",
        "colab_type": "text"
      },
      "source": [
        "In this section, I will initially load the required packages and then define the data generation process and the SVM classifier as custom classes.\n",
        "\n",
        "The data will be split into training, validation and test set, where the validation happens to optimize the kernel function used, since the SVMs are usually sensitive to it."
      ]
    },
    {
      "cell_type": "code",
      "metadata": {
        "id": "_ecppW-QX11R",
        "colab_type": "code",
        "colab": {}
      },
      "source": [
        "import numpy as np\n",
        "from sklearn.model_selection import train_test_split\n",
        "from sklearn import svm, metrics\n",
        "\n",
        "\n",
        "class GeomBrownianMotion:\n",
        "\n",
        "  #Initialization.\n",
        "  #Parameters of GBM:\n",
        "  #S0,mu,sigma,n_sim,T\n",
        "\n",
        "  #We will assume dt = 1 (day) \n",
        "  def __init__(self,S0,mu,sigma,n_sim,T,seed=None):\n",
        "    if seed != None:\n",
        "      np.random.seed(seed)\n",
        "    self.dWt = np.random.standard_normal(n_sim-1)\n",
        "    t = np.linspace(0,T,n_sim)\n",
        "    self.dt = float(T)/(n_sim-1)\n",
        "    self.Wt = np.cumsum(self.dWt)*np.sqrt(self.dt)\n",
        "    self.Wt = np.insert(self.Wt,0,0)\n",
        "      \n",
        "    #Use Wt to create the brownian motion\n",
        "    X = (mu-0.5*sigma**2)*t + sigma*self.Wt\n",
        "    self.S = S0*np.exp(X) ### geometric brownian motion ###\n",
        "    self.dS = (np.log(self.S[1:])-np.log(self.S[:-1]))*100"
      ],
      "execution_count": 0,
      "outputs": []
    },
    {
      "cell_type": "markdown",
      "metadata": {
        "id": "ZwbuETdcYBt0",
        "colab_type": "text"
      },
      "source": [
        "This first class implements the GBM. Of course, this type of input is impossible to forecast by definition, so the performance of any model should be close to the 50% area. The main target, anyway, is the **dS** attribute, since we would have a stationary time series of log returns, normally easier to predict.\n",
        "\n",
        "Here, instead, the definition of the data class:"
      ]
    },
    {
      "cell_type": "code",
      "metadata": {
        "id": "sA_U5hzLYiVY",
        "colab_type": "code",
        "colab": {}
      },
      "source": [
        "\n",
        "class MyData:\n",
        "    \n",
        "    def __init__(self,ts,step):\n",
        "        \n",
        "        self.timeseries = ts\n",
        "        \n",
        "        self.step = step\n",
        "        \n",
        "    def prepareInputOutput(self,train_size,val_size,test_size):\n",
        "        \n",
        "        self.X = []; self.y = []\n",
        "        \n",
        "        for i in range(self.step,len(self.timeseries)-1):\n",
        "            \n",
        "            temp = np.array(self.timeseries[(i-self.step):i])\n",
        "            \n",
        "            self.X.append(temp)\n",
        "            \n",
        "            self.y.append(np.sign(self.timeseries[i+1]))\n",
        "            \n",
        "        val_prop = val_size/(train_size + val_size)\n",
        "    \n",
        "        X_train, self.X_test, y_train, self.y_test = train_test_split(self.X, self.y, test_size = test_size)\n",
        "        \n",
        "        if val_prop > 0:\n",
        "        \n",
        "            self.X_train, self.X_val, self.y_train, self.y_val = train_test_split(X_train, y_train, \n",
        "                                                          test_size = val_prop)\n"
      ],
      "execution_count": 0,
      "outputs": []
    },
    {
      "cell_type": "markdown",
      "metadata": {
        "id": "QS-sg_LhYq5M",
        "colab_type": "text"
      },
      "source": [
        "In this class, we initialize an object by adding our time series and the step we want to implement in order to define input and output for the ML models.\n",
        "\n",
        "For example, having a time step of 5 would mean to have vectors of 5 elements as input, and an output of 1 elemen (the next return to forecast). In the *prepareInputOutput* function, it is defined how to create our training, validation and test set, splitting them after collecting the vectors in the proper way based on time step. Please note that we allow the validation set to be empty.\n",
        "\n",
        "The definition of the SVM class is as below:\n"
      ]
    },
    {
      "cell_type": "code",
      "metadata": {
        "id": "TmE9hbRXZifW",
        "colab_type": "code",
        "colab": {}
      },
      "source": [
        "class SVM_forecast:\n",
        "    \n",
        "    def __init__(self,data):\n",
        "        \n",
        "        self.data = data\n",
        "        \n",
        "    def chooseKernel(self):\n",
        "        \n",
        "        #I would like to run the task for the three most common kernel functions,\n",
        "        #the linear, polynomial (using 3rd order) and rbf\n",
        "        kernels = [\"linear\",\"poly\",\"rbf\"]\n",
        "        \n",
        "        self.accuracyVal = -1 #Initialized to update\n",
        "        \n",
        "        for k in kernels:\n",
        "            \n",
        "            classif = svm.SVC(kernel = k,  gamma = \"auto\")\n",
        "            \n",
        "            classif.fit(self.data.X_train, self.data.y_train)\n",
        "            \n",
        "            y_for = classif.predict(self.data.X_val)\n",
        "            \n",
        "            Acc = metrics.accuracy_score(self.data.y_val,y_for)\n",
        "            \n",
        "            if Acc > self.accuracyVal:\n",
        "                \n",
        "                self.optKernel = k\n",
        "                \n",
        "                self.accuracyVal = Acc\n",
        "                \n",
        "    def testPerformance(self):\n",
        "        \n",
        "        self.classifier = svm.SVC(kernel = self.optKernel, gamma = \"auto\")\n",
        "        \n",
        "        self.classifier.fit(self.data.X_train, self.data.y_train)\n",
        "        \n",
        "        self.forecasts = self.classifier.predict(self.data.X_test)\n",
        "        \n",
        "        self.accuracyTest = metrics.accuracy_score(self.data.y_test, self.forecasts)\n"
      ],
      "execution_count": 0,
      "outputs": []
    },
    {
      "cell_type": "markdown",
      "metadata": {
        "id": "mfo8RhE-Zs5K",
        "colab_type": "text"
      },
      "source": [
        "We have two main functions here, the validator function (testing the kernel functions and choosing the best based on accuracy) and the testing function which tells us the performance after having chosen a model.\n",
        "\n",
        "Here is the implementation of the model:"
      ]
    },
    {
      "cell_type": "code",
      "metadata": {
        "id": "X17qNyUoaGBy",
        "colab_type": "code",
        "outputId": "f86d5998-9e27-4684-b957-ffe141d52061",
        "colab": {
          "base_uri": "https://localhost:8080/",
          "height": 102
        }
      },
      "source": [
        "Years = 3\n",
        "\n",
        "L = Years * 252\n",
        "        \n",
        "GBM = GeomBrownianMotion(100,0.02,0.03,L,1)\n",
        "\n",
        "print(\"GBM complete\")\n",
        "\n",
        "Data = MyData(GBM.dS,5)\n",
        "\n",
        "Data.prepareInputOutput(0.6,0.2,0.2)\n",
        "\n",
        "print(\"Data complete\")\n",
        "\n",
        "Model = SVM_forecast(Data)\n",
        "\n",
        "Model.chooseKernel()\n",
        "\n",
        "print(\"Model choice complete\")\n",
        "\n",
        "Model.testPerformance()\n",
        "\n",
        "print(\"Optimal kernel: \" + Model.optKernel)\n",
        "\n",
        "print(\"Accuracy on testset: \" + str(Model.accuracyTest))"
      ],
      "execution_count": 0,
      "outputs": [
        {
          "output_type": "stream",
          "text": [
            "GBM complete\n",
            "Data complete\n",
            "Model choice complete\n",
            "Optimal kernel: poly\n",
            "Accuracy on testset: 0.4866666666666667\n"
          ],
          "name": "stdout"
        }
      ]
    },
    {
      "cell_type": "markdown",
      "metadata": {
        "id": "6VdoEJE_aOGo",
        "colab_type": "text"
      },
      "source": [
        "Defined a number of years, we obtain the number of business days. Those will be our data points.\n",
        "\n",
        "The example shows how to implement a time step of 5 on a dataset divided into 60% training set, 20% validation set and 20% test set. As expected, the performance is about 50% with small deviations."
      ]
    },
    {
      "cell_type": "markdown",
      "metadata": {
        "id": "Nl-bWxuJeYfl",
        "colab_type": "text"
      },
      "source": [
        "# Deep Learning: LSTM Network"
      ]
    },
    {
      "cell_type": "markdown",
      "metadata": {
        "id": "_d5QtgiTedfp",
        "colab_type": "text"
      },
      "source": [
        "In this section, I use the previously generated Geometric Brownian Motion and Data classes in a classification exercise using a LSTM Network.\n",
        "\n",
        "In this first part, we load the libraries and define our LSTM class:"
      ]
    },
    {
      "cell_type": "code",
      "metadata": {
        "id": "LIGvGt2xr7jN",
        "colab_type": "code",
        "colab": {}
      },
      "source": [
        "from sklearn.preprocessing import StandardScaler\n",
        "from keras.models import Sequential\n",
        "from keras.layers import Dense\n",
        "from keras.layers import LSTM\n",
        "from keras.layers import Dropout\n",
        "\n",
        "class LSTMNetwork:\n",
        "    \n",
        "    def __init__(self,num_layers,data,dropOut=True):\n",
        "        \n",
        "        self.model = Sequential()\n",
        "        \n",
        "        self.data = data\n",
        "        \n",
        "        self.Scaler = StandardScaler()\n",
        "        \n",
        "        #Converting data to right format\n",
        "        self.data.X = np.vstack(self.data.X)\n",
        "        \n",
        "        self.data.y = np.vstack(self.data.y)\n",
        "        \n",
        "        self.data.X_train = np.vstack(self.data.X_train)\n",
        "        \n",
        "        self.data.y_train = np.vstack(self.data.y_train)\n",
        "        \n",
        "        self.data.X_test = np.vstack(self.data.X_test)\n",
        "        \n",
        "        self.data.y_test = np.vstack(self.data.y_test)\n",
        "        \n",
        "        #Obtaining useful objects to reshape for network\n",
        "        self.features = self.data.X.shape[1]\n",
        "        \n",
        "        self.dimtrain = self.data.X_train.shape[0]\n",
        "        \n",
        "        self.dimtest = self.data.X_test.shape[0]\n",
        "        \n",
        "        for i in range(num_layers):\n",
        "\n",
        "            self.model.add(LSTM(units=50, return_sequences=True, input_shape=(1, self.features)))\n",
        "            \n",
        "            if dropOut:\n",
        "                \n",
        "                self.model.add(Dropout(0.2))\n",
        "            \n",
        "        self.model.add(Dense(units = 1, activation = \"softmax\"))\n",
        "        \n",
        "        self.model.compile(optimizer = 'adam', loss = 'binary_crossentropy',metrics = [\"accuracy\"])\n",
        "            \n",
        "    def training(self):\n",
        "        \n",
        "        #Scaled data\n",
        "        \n",
        "        self.data.X_train = self.Scaler.fit_transform(self.data.X_train).reshape(self.dimtrain,1,self.features)\n",
        "                \n",
        "        self.data.y_train = self.data.y_train.reshape(self.dimtrain,1,1)\n",
        "        \n",
        "        self.model.fit(self.data.X_train, \n",
        "                       self.data.y_train, epochs = 100, batch_size=32)\n",
        "        \n",
        "    def testPerformance(self):\n",
        "        \n",
        "        self.data.X_test = self.Scaler.transform(self.data.X_test).reshape(self.dimtest,1,self.features)\n",
        "                \n",
        "        self.data.y_test = self.data.y_test.reshape(self.dimtest,1,1)\n",
        "        \n",
        "        self.accuracyTest = self.model.evaluate(self.data.X_test,self.data.y_test,batch_size = 32)[1]\n",
        "\n",
        "        "
      ],
      "execution_count": 0,
      "outputs": []
    },
    {
      "cell_type": "markdown",
      "metadata": {
        "id": "_g0Np-mbe8tY",
        "colab_type": "text"
      },
      "source": [
        "The format of the data is slightly different, as Keras allows for several samples on the same time and feature dimension. In particular, both input and output should be (n_samples, n_time, n_features) dimensional. Of course, the features of the output are in this case 1 (the next data point).\n",
        "\n",
        "Additionally, here I will skip the validation, however it is still possible to implement it similarly to what we did before. The validation may happen for example on the number of layers.\n",
        "\n",
        "Here the implementation of the model:"
      ]
    },
    {
      "cell_type": "code",
      "metadata": {
        "id": "FqQz2eKje0nw",
        "colab_type": "code",
        "outputId": "2b97c605-5823-4e93-e3b2-832d3426c0f1",
        "colab": {
          "base_uri": "https://localhost:8080/",
          "height": 1000
        }
      },
      "source": [
        "#Deep learning LSTM Network\n",
        "\n",
        "Data.prepareInputOutput(0.8,0.,0.2)\n",
        "\n",
        "Model_NN = LSTMNetwork(4,Data)\n",
        "\n",
        "print(\"Network initialized\")\n",
        "\n",
        "Model_NN.training()\n",
        "\n",
        "print(\"Network trained\")\n",
        "\n",
        "Model_NN.testPerformance()\n",
        "\n",
        "print(\"Accuracy on test set is: \" + str(Model_NN.accuracyTest))"
      ],
      "execution_count": 0,
      "outputs": [
        {
          "output_type": "stream",
          "text": [
            "Network initialized\n",
            "Epoch 1/100\n",
            "449/449 [==============================] - 6s 13ms/step - loss: 16.1199 - acc: 0.4944\n",
            "Epoch 2/100\n",
            "449/449 [==============================] - 0s 367us/step - loss: 16.1199 - acc: 0.4944\n",
            "Epoch 3/100\n",
            "449/449 [==============================] - 0s 367us/step - loss: 16.1199 - acc: 0.4944\n",
            "Epoch 4/100\n",
            "449/449 [==============================] - 0s 355us/step - loss: 16.1199 - acc: 0.4944\n",
            "Epoch 5/100\n",
            "449/449 [==============================] - 0s 354us/step - loss: 16.1199 - acc: 0.4944\n",
            "Epoch 6/100\n",
            "449/449 [==============================] - 0s 364us/step - loss: 16.1199 - acc: 0.4944\n",
            "Epoch 7/100\n",
            "449/449 [==============================] - 0s 362us/step - loss: 16.1199 - acc: 0.4944\n",
            "Epoch 8/100\n",
            "449/449 [==============================] - 0s 350us/step - loss: 16.1199 - acc: 0.4944\n",
            "Epoch 9/100\n",
            "449/449 [==============================] - 0s 433us/step - loss: 16.1199 - acc: 0.4944\n",
            "Epoch 10/100\n",
            "449/449 [==============================] - 0s 364us/step - loss: 16.1199 - acc: 0.4944\n",
            "Epoch 11/100\n",
            "449/449 [==============================] - 0s 357us/step - loss: 16.1199 - acc: 0.4944\n",
            "Epoch 12/100\n",
            "449/449 [==============================] - 0s 360us/step - loss: 16.1199 - acc: 0.4944\n",
            "Epoch 13/100\n",
            "449/449 [==============================] - 0s 349us/step - loss: 16.1199 - acc: 0.4944\n",
            "Epoch 14/100\n",
            "449/449 [==============================] - 0s 368us/step - loss: 16.1199 - acc: 0.4944\n",
            "Epoch 15/100\n",
            "449/449 [==============================] - 0s 357us/step - loss: 16.1199 - acc: 0.4944\n",
            "Epoch 16/100\n",
            "449/449 [==============================] - 0s 356us/step - loss: 16.1199 - acc: 0.4944\n",
            "Epoch 17/100\n",
            "449/449 [==============================] - 0s 343us/step - loss: 16.1199 - acc: 0.4944\n",
            "Epoch 18/100\n",
            "449/449 [==============================] - 0s 364us/step - loss: 16.1199 - acc: 0.4944\n",
            "Epoch 19/100\n",
            "449/449 [==============================] - 0s 367us/step - loss: 16.1199 - acc: 0.4944\n",
            "Epoch 20/100\n",
            "449/449 [==============================] - 0s 358us/step - loss: 16.1199 - acc: 0.4944\n",
            "Epoch 21/100\n",
            "449/449 [==============================] - 0s 388us/step - loss: 16.1199 - acc: 0.4944\n",
            "Epoch 22/100\n",
            "449/449 [==============================] - 0s 353us/step - loss: 16.1199 - acc: 0.4944\n",
            "Epoch 23/100\n",
            "449/449 [==============================] - 0s 346us/step - loss: 16.1199 - acc: 0.4944\n",
            "Epoch 24/100\n",
            "449/449 [==============================] - 0s 358us/step - loss: 16.1199 - acc: 0.4944\n",
            "Epoch 25/100\n",
            "449/449 [==============================] - 0s 357us/step - loss: 16.1199 - acc: 0.4944\n",
            "Epoch 26/100\n",
            "449/449 [==============================] - 0s 354us/step - loss: 16.1199 - acc: 0.4944\n",
            "Epoch 27/100\n",
            "449/449 [==============================] - 0s 363us/step - loss: 16.1199 - acc: 0.4944\n",
            "Epoch 28/100\n",
            "449/449 [==============================] - 0s 351us/step - loss: 16.1199 - acc: 0.4944\n",
            "Epoch 29/100\n",
            "449/449 [==============================] - 0s 357us/step - loss: 16.1199 - acc: 0.4944\n",
            "Epoch 30/100\n",
            "449/449 [==============================] - 0s 357us/step - loss: 16.1199 - acc: 0.4944\n",
            "Epoch 31/100\n",
            "449/449 [==============================] - 0s 358us/step - loss: 16.1199 - acc: 0.4944\n",
            "Epoch 32/100\n",
            "449/449 [==============================] - 0s 402us/step - loss: 16.1199 - acc: 0.4944\n",
            "Epoch 33/100\n",
            "449/449 [==============================] - 0s 373us/step - loss: 16.1199 - acc: 0.4944\n",
            "Epoch 34/100\n",
            "449/449 [==============================] - 0s 378us/step - loss: 16.1199 - acc: 0.4944\n",
            "Epoch 35/100\n",
            "449/449 [==============================] - 0s 388us/step - loss: 16.1199 - acc: 0.4944\n",
            "Epoch 36/100\n",
            "449/449 [==============================] - 0s 352us/step - loss: 16.1199 - acc: 0.4944\n",
            "Epoch 37/100\n",
            "449/449 [==============================] - 0s 402us/step - loss: 16.1199 - acc: 0.4944\n",
            "Epoch 38/100\n",
            "449/449 [==============================] - 0s 367us/step - loss: 16.1199 - acc: 0.4944\n",
            "Epoch 39/100\n",
            "449/449 [==============================] - 0s 366us/step - loss: 16.1199 - acc: 0.4944\n",
            "Epoch 40/100\n",
            "449/449 [==============================] - 0s 383us/step - loss: 16.1199 - acc: 0.4944\n",
            "Epoch 41/100\n",
            "449/449 [==============================] - 0s 379us/step - loss: 16.1199 - acc: 0.4944\n",
            "Epoch 42/100\n",
            "449/449 [==============================] - 0s 358us/step - loss: 16.1199 - acc: 0.4944\n",
            "Epoch 43/100\n",
            "449/449 [==============================] - 0s 361us/step - loss: 16.1199 - acc: 0.4944\n",
            "Epoch 44/100\n",
            "449/449 [==============================] - 0s 385us/step - loss: 16.1199 - acc: 0.4944\n",
            "Epoch 45/100\n",
            "449/449 [==============================] - 0s 370us/step - loss: 16.1199 - acc: 0.4944\n",
            "Epoch 46/100\n",
            "449/449 [==============================] - 0s 378us/step - loss: 16.1199 - acc: 0.4944\n",
            "Epoch 47/100\n",
            "449/449 [==============================] - 0s 360us/step - loss: 16.1199 - acc: 0.4944\n",
            "Epoch 48/100\n",
            "449/449 [==============================] - 0s 367us/step - loss: 16.1199 - acc: 0.4944\n",
            "Epoch 49/100\n",
            "449/449 [==============================] - 0s 378us/step - loss: 16.1199 - acc: 0.4944\n",
            "Epoch 50/100\n",
            "449/449 [==============================] - 0s 368us/step - loss: 16.1199 - acc: 0.4944\n",
            "Epoch 51/100\n",
            "449/449 [==============================] - 0s 370us/step - loss: 16.1199 - acc: 0.4944\n",
            "Epoch 52/100\n",
            "449/449 [==============================] - 0s 387us/step - loss: 16.1199 - acc: 0.4944\n",
            "Epoch 53/100\n",
            "449/449 [==============================] - 0s 390us/step - loss: 16.1199 - acc: 0.4944\n",
            "Epoch 54/100\n",
            "449/449 [==============================] - 0s 363us/step - loss: 16.1199 - acc: 0.4944\n",
            "Epoch 55/100\n",
            "449/449 [==============================] - 0s 356us/step - loss: 16.1199 - acc: 0.4944\n",
            "Epoch 56/100\n",
            "449/449 [==============================] - 0s 370us/step - loss: 16.1199 - acc: 0.4944\n",
            "Epoch 57/100\n",
            "449/449 [==============================] - 0s 351us/step - loss: 16.1199 - acc: 0.4944\n",
            "Epoch 58/100\n",
            "449/449 [==============================] - 0s 371us/step - loss: 16.1199 - acc: 0.4944\n",
            "Epoch 59/100\n",
            "449/449 [==============================] - 0s 386us/step - loss: 16.1199 - acc: 0.4944\n",
            "Epoch 60/100\n",
            "449/449 [==============================] - 0s 367us/step - loss: 16.1199 - acc: 0.4944\n",
            "Epoch 61/100\n",
            "449/449 [==============================] - 0s 363us/step - loss: 16.1199 - acc: 0.4944\n",
            "Epoch 62/100\n",
            "449/449 [==============================] - 0s 382us/step - loss: 16.1199 - acc: 0.4944\n",
            "Epoch 63/100\n",
            "449/449 [==============================] - 0s 361us/step - loss: 16.1199 - acc: 0.4944\n",
            "Epoch 64/100\n",
            "449/449 [==============================] - 0s 363us/step - loss: 16.1199 - acc: 0.4944\n",
            "Epoch 65/100\n",
            "449/449 [==============================] - 0s 376us/step - loss: 16.1199 - acc: 0.4944\n",
            "Epoch 66/100\n",
            "449/449 [==============================] - 0s 357us/step - loss: 16.1199 - acc: 0.4944\n",
            "Epoch 67/100\n",
            "449/449 [==============================] - 0s 368us/step - loss: 16.1199 - acc: 0.4944\n",
            "Epoch 68/100\n",
            "449/449 [==============================] - 0s 357us/step - loss: 16.1199 - acc: 0.4944\n",
            "Epoch 69/100\n",
            "449/449 [==============================] - 0s 372us/step - loss: 16.1199 - acc: 0.4944\n",
            "Epoch 70/100\n",
            "449/449 [==============================] - 0s 364us/step - loss: 16.1199 - acc: 0.4944\n",
            "Epoch 71/100\n",
            "449/449 [==============================] - 0s 417us/step - loss: 16.1199 - acc: 0.4944\n",
            "Epoch 72/100\n",
            "449/449 [==============================] - 0s 356us/step - loss: 16.1199 - acc: 0.4944\n",
            "Epoch 73/100\n",
            "449/449 [==============================] - 0s 383us/step - loss: 16.1199 - acc: 0.4944\n",
            "Epoch 74/100\n",
            "449/449 [==============================] - 0s 365us/step - loss: 16.1199 - acc: 0.4944\n",
            "Epoch 75/100\n",
            "449/449 [==============================] - 0s 352us/step - loss: 16.1199 - acc: 0.4944\n",
            "Epoch 76/100\n",
            "449/449 [==============================] - 0s 356us/step - loss: 16.1199 - acc: 0.4944\n",
            "Epoch 77/100\n",
            "449/449 [==============================] - 0s 388us/step - loss: 16.1199 - acc: 0.4944\n",
            "Epoch 78/100\n",
            "449/449 [==============================] - 0s 357us/step - loss: 16.1199 - acc: 0.4944\n",
            "Epoch 79/100\n",
            "449/449 [==============================] - 0s 365us/step - loss: 16.1199 - acc: 0.4944\n",
            "Epoch 80/100\n",
            "449/449 [==============================] - 0s 376us/step - loss: 16.1199 - acc: 0.4944\n",
            "Epoch 81/100\n",
            "449/449 [==============================] - 0s 366us/step - loss: 16.1199 - acc: 0.4944\n",
            "Epoch 82/100\n",
            "449/449 [==============================] - 0s 358us/step - loss: 16.1199 - acc: 0.4944\n",
            "Epoch 83/100\n",
            "449/449 [==============================] - 0s 372us/step - loss: 16.1199 - acc: 0.4944\n",
            "Epoch 84/100\n",
            "449/449 [==============================] - 0s 353us/step - loss: 16.1199 - acc: 0.4944\n",
            "Epoch 85/100\n",
            "449/449 [==============================] - 0s 367us/step - loss: 16.1199 - acc: 0.4944\n",
            "Epoch 86/100\n",
            "449/449 [==============================] - 0s 374us/step - loss: 16.1199 - acc: 0.4944\n",
            "Epoch 87/100\n",
            "449/449 [==============================] - 0s 360us/step - loss: 16.1199 - acc: 0.4944\n",
            "Epoch 88/100\n",
            "449/449 [==============================] - 0s 370us/step - loss: 16.1199 - acc: 0.4944\n",
            "Epoch 89/100\n",
            "449/449 [==============================] - 0s 359us/step - loss: 16.1199 - acc: 0.4944\n",
            "Epoch 90/100\n",
            "449/449 [==============================] - 0s 361us/step - loss: 16.1199 - acc: 0.4944\n",
            "Epoch 91/100\n",
            "449/449 [==============================] - 0s 353us/step - loss: 16.1199 - acc: 0.4944\n",
            "Epoch 92/100\n",
            "449/449 [==============================] - 0s 361us/step - loss: 16.1199 - acc: 0.4944\n",
            "Epoch 93/100\n",
            "449/449 [==============================] - 0s 353us/step - loss: 16.1199 - acc: 0.4944\n",
            "Epoch 94/100\n",
            "449/449 [==============================] - 0s 356us/step - loss: 16.1199 - acc: 0.4944\n",
            "Epoch 95/100\n",
            "449/449 [==============================] - 0s 339us/step - loss: 16.1199 - acc: 0.4944\n",
            "Epoch 96/100\n",
            "449/449 [==============================] - 0s 368us/step - loss: 16.1199 - acc: 0.4944\n",
            "Epoch 97/100\n",
            "449/449 [==============================] - 0s 378us/step - loss: 16.1199 - acc: 0.4944\n",
            "Epoch 98/100\n",
            "449/449 [==============================] - 0s 361us/step - loss: 16.1199 - acc: 0.4944\n",
            "Epoch 99/100\n",
            "449/449 [==============================] - 0s 377us/step - loss: 16.1199 - acc: 0.4944\n",
            "Epoch 100/100\n",
            "449/449 [==============================] - 0s 344us/step - loss: 16.1199 - acc: 0.4944\n",
            "Network trained\n",
            "150/150 [==============================] - 2s 10ms/step\n",
            "Accuracy on test set is: 0.5333333357175192\n"
          ],
          "name": "stdout"
        }
      ]
    },
    {
      "cell_type": "markdown",
      "metadata": {
        "id": "horizC-ef4Jv",
        "colab_type": "text"
      },
      "source": [
        "As we can see, the accuracy is still very close to 50%."
      ]
    },
    {
      "cell_type": "markdown",
      "metadata": {
        "id": "TTB_SK0KgIIk",
        "colab_type": "text"
      },
      "source": [
        "# Conclusions\n",
        "\n",
        "In this exercise we have implemented SVM and LSTM frameworks to forecast the future returns of our time series (thus, if the price will go up or down, as it is only based on the sign of the return).\n",
        "\n",
        "The performance in this case doesn't really tell us much, since the GBM is unpredictable, but the way we implemented these models can actually be applied on more meaningful time series."
      ]
    }
  ]
}